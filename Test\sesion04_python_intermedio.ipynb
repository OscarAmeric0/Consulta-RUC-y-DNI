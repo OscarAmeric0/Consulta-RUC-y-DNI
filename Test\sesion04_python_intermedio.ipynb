{
  "nbformat": 4,
  "nbformat_minor": 0,
  "metadata": {
    "colab": {
      "provenance": [],
      "authorship_tag": "ABX9TyNpgDQjJHlXDkm/9A+CC4GU",
      "include_colab_link": true
    },
    "kernelspec": {
      "name": "python3",
      "display_name": "Python 3"
    },
    "language_info": {
      "name": "python"
    }
  },
  "cells": [
    {
      "cell_type": "markdown",
      "metadata": {
        "id": "view-in-github",
        "colab_type": "text"
      },
      "source": [
        "<a href=\"https://colab.research.google.com/github/OscarAmeric0/Consulta-RUC-y-DNI/blob/main/Test%5Csesion04_python_intermedio.ipynb\" target=\"_parent\"><img src=\"https://colab.research.google.com/assets/colab-badge.svg\" alt=\"Open In Colab\"/></a>"
      ]
    },
    {
      "cell_type": "markdown",
      "source": [
        "# Sesion 04 Clases Python Intermedio "
      ],
      "metadata": {
        "id": "JoH6npgVKu6H"
      }
    },
    {
      "cell_type": "code",
      "source": [
        "Test git hub 01"
      ],
      "metadata": {
        "id": "vAjOqfHnLL5W"
      },
      "execution_count": null,
      "outputs": []
    }
  ]
}